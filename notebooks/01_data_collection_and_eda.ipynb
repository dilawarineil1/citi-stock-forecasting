{
 "cells": [
  {
   "cell_type": "code",
   "execution_count": 1,
   "id": "8ed39490",
   "metadata": {},
   "outputs": [],
   "source": [
    "import yfinance as yf\n",
    "import pandas as pd"
   ]
  },
  {
   "cell_type": "code",
   "execution_count": 2,
   "id": "1ceec369",
   "metadata": {},
   "outputs": [
    {
     "name": "stdout",
     "output_type": "stream",
     "text": [
      "YF.download() has changed argument auto_adjust default to True\n"
     ]
    },
    {
     "name": "stderr",
     "output_type": "stream",
     "text": [
      "[*********************100%***********************]  1 of 1 completed\n"
     ]
    }
   ],
   "source": [
    "# Download Citi stock ticker data\n",
    "citi = yf.download('C', start='2019-01-01', end='2024-12-31', interval='1wk')"
   ]
  },
  {
   "cell_type": "code",
   "execution_count": 5,
   "id": "ac79d718",
   "metadata": {},
   "outputs": [
    {
     "data": {
      "text/html": [
       "<div>\n",
       "<style scoped>\n",
       "    .dataframe tbody tr th:only-of-type {\n",
       "        vertical-align: middle;\n",
       "    }\n",
       "\n",
       "    .dataframe tbody tr th {\n",
       "        vertical-align: top;\n",
       "    }\n",
       "\n",
       "    .dataframe thead tr th {\n",
       "        text-align: left;\n",
       "    }\n",
       "\n",
       "    .dataframe thead tr:last-of-type th {\n",
       "        text-align: right;\n",
       "    }\n",
       "</style>\n",
       "<table border=\"1\" class=\"dataframe\">\n",
       "  <thead>\n",
       "    <tr>\n",
       "      <th>Price</th>\n",
       "      <th>Close</th>\n",
       "      <th>High</th>\n",
       "      <th>Low</th>\n",
       "      <th>Open</th>\n",
       "      <th>Volume</th>\n",
       "    </tr>\n",
       "    <tr>\n",
       "      <th>Ticker</th>\n",
       "      <th>C</th>\n",
       "      <th>C</th>\n",
       "      <th>C</th>\n",
       "      <th>C</th>\n",
       "      <th>C</th>\n",
       "    </tr>\n",
       "    <tr>\n",
       "      <th>Date</th>\n",
       "      <th></th>\n",
       "      <th></th>\n",
       "      <th></th>\n",
       "      <th></th>\n",
       "      <th></th>\n",
       "    </tr>\n",
       "  </thead>\n",
       "  <tbody>\n",
       "    <tr>\n",
       "      <th>2019-01-01</th>\n",
       "      <td>44.022682</td>\n",
       "      <td>44.497660</td>\n",
       "      <td>40.112016</td>\n",
       "      <td>40.119934</td>\n",
       "      <td>87668500</td>\n",
       "    </tr>\n",
       "    <tr>\n",
       "      <th>2019-01-08</th>\n",
       "      <td>46.650887</td>\n",
       "      <td>46.943790</td>\n",
       "      <td>43.349779</td>\n",
       "      <td>44.355152</td>\n",
       "      <td>112980100</td>\n",
       "    </tr>\n",
       "    <tr>\n",
       "      <th>2019-01-15</th>\n",
       "      <td>49.967827</td>\n",
       "      <td>50.023241</td>\n",
       "      <td>47.141700</td>\n",
       "      <td>47.410855</td>\n",
       "      <td>112999300</td>\n",
       "    </tr>\n",
       "    <tr>\n",
       "      <th>2019-01-22</th>\n",
       "      <td>50.545731</td>\n",
       "      <td>51.020709</td>\n",
       "      <td>48.408325</td>\n",
       "      <td>49.611604</td>\n",
       "      <td>84901400</td>\n",
       "    </tr>\n",
       "    <tr>\n",
       "      <th>2019-01-29</th>\n",
       "      <td>50.711952</td>\n",
       "      <td>51.250262</td>\n",
       "      <td>49.864909</td>\n",
       "      <td>50.434882</td>\n",
       "      <td>77351400</td>\n",
       "    </tr>\n",
       "  </tbody>\n",
       "</table>\n",
       "</div>"
      ],
      "text/plain": [
       "Price           Close       High        Low       Open     Volume\n",
       "Ticker              C          C          C          C          C\n",
       "Date                                                             \n",
       "2019-01-01  44.022682  44.497660  40.112016  40.119934   87668500\n",
       "2019-01-08  46.650887  46.943790  43.349779  44.355152  112980100\n",
       "2019-01-15  49.967827  50.023241  47.141700  47.410855  112999300\n",
       "2019-01-22  50.545731  51.020709  48.408325  49.611604   84901400\n",
       "2019-01-29  50.711952  51.250262  49.864909  50.434882   77351400"
      ]
     },
     "execution_count": 5,
     "metadata": {},
     "output_type": "execute_result"
    }
   ],
   "source": [
    "# Preview first few rows\n",
    "citi.head()"
   ]
  },
  {
   "cell_type": "code",
   "execution_count": 6,
   "id": "c5436704",
   "metadata": {},
   "outputs": [],
   "source": [
    "# Save to data folder\n",
    "citi.to_csv('../data/citi_stock_data.csv')"
   ]
  },
  {
   "cell_type": "code",
   "execution_count": null,
   "id": "34ef87c9",
   "metadata": {},
   "outputs": [],
   "source": []
  }
 ],
 "metadata": {
  "kernelspec": {
   "display_name": "Python 3",
   "language": "python",
   "name": "python3"
  },
  "language_info": {
   "codemirror_mode": {
    "name": "ipython",
    "version": 3
   },
   "file_extension": ".py",
   "mimetype": "text/x-python",
   "name": "python",
   "nbconvert_exporter": "python",
   "pygments_lexer": "ipython3",
   "version": "3.12.6"
  }
 },
 "nbformat": 4,
 "nbformat_minor": 5
}
