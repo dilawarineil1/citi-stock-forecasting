{
 "cells": [
  {
   "cell_type": "code",
   "execution_count": 1,
   "id": "8ed39490",
   "metadata": {},
   "outputs": [],
   "source": [
    "import yfinance as yf\n",
    "import pandas as pd"
   ]
  },
  {
   "cell_type": "code",
   "execution_count": 2,
   "id": "1ceec369",
   "metadata": {},
   "outputs": [
    {
     "name": "stdout",
     "output_type": "stream",
     "text": [
      "YF.download() has changed argument auto_adjust default to True\n"
     ]
    },
    {
     "name": "stderr",
     "output_type": "stream",
     "text": [
      "[*********************100%***********************]  1 of 1 completed\n"
     ]
    }
   ],
   "source": [
    "# Download Citi stock ticker data\n",
    "citi = yf.download('C', start='2019-01-01', end='2024-12-31', interval='1wk')"
   ]
  },
  {
   "cell_type": "code",
   "execution_count": 3,
   "id": "ac79d718",
   "metadata": {},
   "outputs": [
    {
     "data": {
      "application/vnd.microsoft.datawrangler.viewer.v0+json": {
       "columns": [
        {
         "name": "Date",
         "rawType": "datetime64[ns]",
         "type": "datetime"
        },
        {
         "name": "('Close', 'C')",
         "rawType": "float64",
         "type": "float"
        },
        {
         "name": "('High', 'C')",
         "rawType": "float64",
         "type": "float"
        },
        {
         "name": "('Low', 'C')",
         "rawType": "float64",
         "type": "float"
        },
        {
         "name": "('Open', 'C')",
         "rawType": "float64",
         "type": "float"
        },
        {
         "name": "('Volume', 'C')",
         "rawType": "int64",
         "type": "integer"
        }
       ],
       "ref": "d52f478f-76ad-44ed-bdc0-22c6004be8aa",
       "rows": [
        [
         "2019-01-01 00:00:00",
         "44.02267074584961",
         "44.49764889697965",
         "40.112005423518376",
         "40.11992343727842",
         "87668500"
        ],
        [
         "2019-01-08 00:00:00",
         "46.6508903503418",
         "46.943793447435176",
         "43.34978218315701",
         "44.35515553786941",
         "112980100"
        ],
        [
         "2019-01-15 00:00:00",
         "49.96782684326172",
         "50.02324085925104",
         "47.141699948456534",
         "47.41085503462072",
         "112999300"
        ],
        [
         "2019-01-22 00:00:00",
         "50.54572677612305",
         "51.02070500108428",
         "48.40832174395959",
         "49.61160031650643",
         "84901400"
        ],
        [
         "2019-01-29 00:00:00",
         "50.71195602416992",
         "51.250266153528806",
         "49.86491284454117",
         "50.43488596633983",
         "77351400"
        ]
       ],
       "shape": {
        "columns": 5,
        "rows": 5
       }
      },
      "text/html": [
       "<div>\n",
       "<style scoped>\n",
       "    .dataframe tbody tr th:only-of-type {\n",
       "        vertical-align: middle;\n",
       "    }\n",
       "\n",
       "    .dataframe tbody tr th {\n",
       "        vertical-align: top;\n",
       "    }\n",
       "\n",
       "    .dataframe thead tr th {\n",
       "        text-align: left;\n",
       "    }\n",
       "\n",
       "    .dataframe thead tr:last-of-type th {\n",
       "        text-align: right;\n",
       "    }\n",
       "</style>\n",
       "<table border=\"1\" class=\"dataframe\">\n",
       "  <thead>\n",
       "    <tr>\n",
       "      <th>Price</th>\n",
       "      <th>Close</th>\n",
       "      <th>High</th>\n",
       "      <th>Low</th>\n",
       "      <th>Open</th>\n",
       "      <th>Volume</th>\n",
       "    </tr>\n",
       "    <tr>\n",
       "      <th>Ticker</th>\n",
       "      <th>C</th>\n",
       "      <th>C</th>\n",
       "      <th>C</th>\n",
       "      <th>C</th>\n",
       "      <th>C</th>\n",
       "    </tr>\n",
       "    <tr>\n",
       "      <th>Date</th>\n",
       "      <th></th>\n",
       "      <th></th>\n",
       "      <th></th>\n",
       "      <th></th>\n",
       "      <th></th>\n",
       "    </tr>\n",
       "  </thead>\n",
       "  <tbody>\n",
       "    <tr>\n",
       "      <th>2019-01-01</th>\n",
       "      <td>44.022671</td>\n",
       "      <td>44.497649</td>\n",
       "      <td>40.112005</td>\n",
       "      <td>40.119923</td>\n",
       "      <td>87668500</td>\n",
       "    </tr>\n",
       "    <tr>\n",
       "      <th>2019-01-08</th>\n",
       "      <td>46.650890</td>\n",
       "      <td>46.943793</td>\n",
       "      <td>43.349782</td>\n",
       "      <td>44.355156</td>\n",
       "      <td>112980100</td>\n",
       "    </tr>\n",
       "    <tr>\n",
       "      <th>2019-01-15</th>\n",
       "      <td>49.967827</td>\n",
       "      <td>50.023241</td>\n",
       "      <td>47.141700</td>\n",
       "      <td>47.410855</td>\n",
       "      <td>112999300</td>\n",
       "    </tr>\n",
       "    <tr>\n",
       "      <th>2019-01-22</th>\n",
       "      <td>50.545727</td>\n",
       "      <td>51.020705</td>\n",
       "      <td>48.408322</td>\n",
       "      <td>49.611600</td>\n",
       "      <td>84901400</td>\n",
       "    </tr>\n",
       "    <tr>\n",
       "      <th>2019-01-29</th>\n",
       "      <td>50.711956</td>\n",
       "      <td>51.250266</td>\n",
       "      <td>49.864913</td>\n",
       "      <td>50.434886</td>\n",
       "      <td>77351400</td>\n",
       "    </tr>\n",
       "  </tbody>\n",
       "</table>\n",
       "</div>"
      ],
      "text/plain": [
       "Price           Close       High        Low       Open     Volume\n",
       "Ticker              C          C          C          C          C\n",
       "Date                                                             \n",
       "2019-01-01  44.022671  44.497649  40.112005  40.119923   87668500\n",
       "2019-01-08  46.650890  46.943793  43.349782  44.355156  112980100\n",
       "2019-01-15  49.967827  50.023241  47.141700  47.410855  112999300\n",
       "2019-01-22  50.545727  51.020705  48.408322  49.611600   84901400\n",
       "2019-01-29  50.711956  51.250266  49.864913  50.434886   77351400"
      ]
     },
     "execution_count": 3,
     "metadata": {},
     "output_type": "execute_result"
    }
   ],
   "source": [
    "# Preview first few rows\n",
    "citi.head()"
   ]
  },
  {
   "cell_type": "code",
   "execution_count": 4,
   "id": "c5436704",
   "metadata": {},
   "outputs": [],
   "source": [
    "# Save to data folder\n",
    "citi.to_csv('../data/citi_stock_data.csv')"
   ]
  },
  {
   "cell_type": "code",
   "execution_count": null,
   "id": "34ef87c9",
   "metadata": {},
   "outputs": [],
   "source": []
  }
 ],
 "metadata": {
  "kernelspec": {
   "display_name": "Python 3",
   "language": "python",
   "name": "python3"
  },
  "language_info": {
   "codemirror_mode": {
    "name": "ipython",
    "version": 3
   },
   "file_extension": ".py",
   "mimetype": "text/x-python",
   "name": "python",
   "nbconvert_exporter": "python",
   "pygments_lexer": "ipython3",
   "version": "3.12.6"
  }
 },
 "nbformat": 4,
 "nbformat_minor": 5
}
