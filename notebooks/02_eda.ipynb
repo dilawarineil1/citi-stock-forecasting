{
 "cells": [
  {
   "cell_type": "code",
   "execution_count": 4,
   "id": "9213e804",
   "metadata": {},
   "outputs": [],
   "source": [
    "import pandas as pd\n",
    "import matplotlib.pyplot as plt\n",
    "import seaborn as sns\n",
    "from statsmodels.tsa.stattools import adfuller"
   ]
  },
  {
   "cell_type": "code",
   "execution_count": null,
   "id": "cafffa2a",
   "metadata": {},
   "outputs": [
    {
     "name": "stdout",
     "output_type": "stream",
     "text": [
      "MultiIndex([( 'Price', 'Ticker'),\n",
      "            ( 'Close',      'C'),\n",
      "            (  'High',      'C'),\n",
      "            (   'Low',      'C'),\n",
      "            (  'Open',      'C'),\n",
      "            ('Volume',      'C')],\n",
      "           )\n"
     ]
    },
    {
     "data": {
      "application/vnd.microsoft.datawrangler.viewer.v0+json": {
       "columns": [
        {
         "name": "index",
         "rawType": "int64",
         "type": "integer"
        },
        {
         "name": "('Price', 'Ticker')",
         "rawType": "object",
         "type": "string"
        },
        {
         "name": "('Close', 'C')",
         "rawType": "float64",
         "type": "float"
        },
        {
         "name": "('High', 'C')",
         "rawType": "float64",
         "type": "float"
        },
        {
         "name": "('Low', 'C')",
         "rawType": "float64",
         "type": "float"
        },
        {
         "name": "('Open', 'C')",
         "rawType": "float64",
         "type": "float"
        },
        {
         "name": "('Volume', 'C')",
         "rawType": "float64",
         "type": "float"
        }
       ],
       "ref": "83a93234-52d2-43e0-9c0e-62204eab06d4",
       "rows": [
        [
         "0",
         "Date",
         null,
         null,
         null,
         null,
         null
        ],
        [
         "1",
         "2019-01-01",
         "44.02267074584961",
         "44.49764889697965",
         "40.112005423518376",
         "40.11992343727842",
         "87668500.0"
        ],
        [
         "2",
         "2019-01-08",
         "46.6508903503418",
         "46.943793447435176",
         "43.34978218315701",
         "44.35515553786941",
         "112980100.0"
        ],
        [
         "3",
         "2019-01-15",
         "49.96782684326172",
         "50.02324085925104",
         "47.141699948456534",
         "47.41085503462072",
         "112999300.0"
        ],
        [
         "4",
         "2019-01-22",
         "50.54572677612305",
         "51.02070500108428",
         "48.40832174395959",
         "49.61160031650643",
         "84901400.0"
        ]
       ],
       "shape": {
        "columns": 6,
        "rows": 5
       }
      },
      "text/html": [
       "<div>\n",
       "<style scoped>\n",
       "    .dataframe tbody tr th:only-of-type {\n",
       "        vertical-align: middle;\n",
       "    }\n",
       "\n",
       "    .dataframe tbody tr th {\n",
       "        vertical-align: top;\n",
       "    }\n",
       "\n",
       "    .dataframe thead tr th {\n",
       "        text-align: left;\n",
       "    }\n",
       "</style>\n",
       "<table border=\"1\" class=\"dataframe\">\n",
       "  <thead>\n",
       "    <tr>\n",
       "      <th></th>\n",
       "      <th>Price</th>\n",
       "      <th>Close</th>\n",
       "      <th>High</th>\n",
       "      <th>Low</th>\n",
       "      <th>Open</th>\n",
       "      <th>Volume</th>\n",
       "    </tr>\n",
       "    <tr>\n",
       "      <th></th>\n",
       "      <th>Ticker</th>\n",
       "      <th>C</th>\n",
       "      <th>C</th>\n",
       "      <th>C</th>\n",
       "      <th>C</th>\n",
       "      <th>C</th>\n",
       "    </tr>\n",
       "  </thead>\n",
       "  <tbody>\n",
       "    <tr>\n",
       "      <th>0</th>\n",
       "      <td>Date</td>\n",
       "      <td>NaN</td>\n",
       "      <td>NaN</td>\n",
       "      <td>NaN</td>\n",
       "      <td>NaN</td>\n",
       "      <td>NaN</td>\n",
       "    </tr>\n",
       "    <tr>\n",
       "      <th>1</th>\n",
       "      <td>2019-01-01</td>\n",
       "      <td>44.022671</td>\n",
       "      <td>44.497649</td>\n",
       "      <td>40.112005</td>\n",
       "      <td>40.119923</td>\n",
       "      <td>87668500.0</td>\n",
       "    </tr>\n",
       "    <tr>\n",
       "      <th>2</th>\n",
       "      <td>2019-01-08</td>\n",
       "      <td>46.650890</td>\n",
       "      <td>46.943793</td>\n",
       "      <td>43.349782</td>\n",
       "      <td>44.355156</td>\n",
       "      <td>112980100.0</td>\n",
       "    </tr>\n",
       "    <tr>\n",
       "      <th>3</th>\n",
       "      <td>2019-01-15</td>\n",
       "      <td>49.967827</td>\n",
       "      <td>50.023241</td>\n",
       "      <td>47.141700</td>\n",
       "      <td>47.410855</td>\n",
       "      <td>112999300.0</td>\n",
       "    </tr>\n",
       "    <tr>\n",
       "      <th>4</th>\n",
       "      <td>2019-01-22</td>\n",
       "      <td>50.545727</td>\n",
       "      <td>51.020705</td>\n",
       "      <td>48.408322</td>\n",
       "      <td>49.611600</td>\n",
       "      <td>84901400.0</td>\n",
       "    </tr>\n",
       "  </tbody>\n",
       "</table>\n",
       "</div>"
      ],
      "text/plain": [
       "        Price      Close       High        Low       Open       Volume\n",
       "       Ticker          C          C          C          C            C\n",
       "0        Date        NaN        NaN        NaN        NaN          NaN\n",
       "1  2019-01-01  44.022671  44.497649  40.112005  40.119923   87668500.0\n",
       "2  2019-01-08  46.650890  46.943793  43.349782  44.355156  112980100.0\n",
       "3  2019-01-15  49.967827  50.023241  47.141700  47.410855  112999300.0\n",
       "4  2019-01-22  50.545727  51.020705  48.408322  49.611600   84901400.0"
      ]
     },
     "execution_count": 6,
     "metadata": {},
     "output_type": "execute_result"
    }
   ],
   "source": [
    "# load CSV\n",
    "df = pd.read_csv('../data/citi_stock_data.csv')\n",
    "df_raw = pd.read_csv('../data/citi_stock_data.csv', header=[0,1])\n",
    "\n",
    "print(df_raw.columns)\n",
    "df_raw.head()\n",
    "\n",
    "# closing price\n",
    "# df = df[['Close']]\n",
    "# df.rename(columns={'Close': 'Close_C'}, inplace=True)\n",
    "# df.head()"
   ]
  },
  {
   "cell_type": "code",
   "execution_count": null,
   "id": "f5f46daf",
   "metadata": {},
   "outputs": [],
   "source": [
    "plt.figure(figsize=(12, 6))\n",
    "plt.plot(df['Close_C'], label='Citi Closing Price')\n",
    "plt.title('Citi (C) Weekly Closing Prices (2019–2024)')\n",
    "plt.xlabel('Date')\n",
    "plt.ylabel('Price ($)')\n",
    "plt.legend()\n",
    "plt.grid(True)\n",
    "plt.tight_layout()\n",
    "plt.show()"
   ]
  },
  {
   "cell_type": "code",
   "execution_count": null,
   "id": "2d9fc697",
   "metadata": {},
   "outputs": [],
   "source": [
    "df['Rolling Mean (12w)'] = df['Close_C'].rolling(window=12).mean()\n",
    "df['Rolling Std (12w)'] = df['Close_C'].rolling(window=12).std()\n",
    "\n",
    "plt.figure(figsize=(12, 6))\n",
    "plt.plot(df['Close_C'], label='Citi Close')\n",
    "plt.plot(df['Rolling Mean (12w)'], label='12-week Rolling Mean')\n",
    "plt.plot(df['Rolling Std (12w)'], label='12-week Rolling Std')\n",
    "plt.title('Rolling Mean & Std Dev of Citi Weekly Closing Price')\n",
    "plt.legend()\n",
    "plt.grid(True)\n",
    "plt.tight_layout()\n",
    "plt.show()"
   ]
  },
  {
   "cell_type": "code",
   "execution_count": null,
   "id": "39447854",
   "metadata": {},
   "outputs": [],
   "source": [
    "result = adfuller(df['Close_C'].dropna())\n",
    "\n",
    "print(\"ADF Statistic: {:.4f}\".format(result[0]))\n",
    "print(\"p-value: {:.4f}\".format(result[1]))\n",
    "\n",
    "if result[1] < 0.05:\n",
    "    print(\"→ Data is stationary (good for ARIMA)\")\n",
    "else:\n",
    "    print(\"→ Data is NOT stationary — differencing needed for ARIMA\")"
   ]
  },
  {
   "cell_type": "code",
   "execution_count": null,
   "id": "102c6b85",
   "metadata": {},
   "outputs": [],
   "source": [
    "plt.figure(figsize=(12, 6))\n",
    "plt.plot(df['Close_C'])\n",
    "plt.title('Citi Weekly Close')\n",
    "plt.savefig('../visuals/citi_closing_price.png')\n",
    "plt.close()"
   ]
  }
 ],
 "metadata": {
  "kernelspec": {
   "display_name": "Python 3",
   "language": "python",
   "name": "python3"
  },
  "language_info": {
   "codemirror_mode": {
    "name": "ipython",
    "version": 3
   },
   "file_extension": ".py",
   "mimetype": "text/x-python",
   "name": "python",
   "nbconvert_exporter": "python",
   "pygments_lexer": "ipython3",
   "version": "3.12.6"
  }
 },
 "nbformat": 4,
 "nbformat_minor": 5
}
